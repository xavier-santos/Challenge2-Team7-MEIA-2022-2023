{
 "cells": [
  {
   "cell_type": "markdown",
   "id": "7e4f4eb7",
   "metadata": {},
   "source": [
    "## Importing Data "
   ]
  },
  {
   "cell_type": "code",
   "execution_count": 1,
   "id": "0326f2d7",
   "metadata": {},
   "outputs": [],
   "source": [
    "import pandas as pd\n",
    "import numpy as np"
   ]
  },
  {
   "cell_type": "code",
   "execution_count": 2,
   "id": "6b2bc0bb",
   "metadata": {},
   "outputs": [
    {
     "name": "stdout",
     "output_type": "stream",
     "text": [
      "   cycle  setting1  setting2  setting3      s1      s2       s3       s4  \\\n",
      "0    155    0.0002   -0.0004     100.0  518.67  642.88  1584.80  1414.22   \n",
      "1    190    0.0023   -0.0003     100.0  518.67  643.97  1605.53  1420.52   \n",
      "2    145    0.0004    0.0003     100.0  518.67  642.42  1586.40  1419.17   \n",
      "3     41    0.0005    0.0002     100.0  518.67  642.50  1590.12  1404.31   \n",
      "4     47   -0.0019    0.0004     100.0  518.67  642.14  1594.30  1402.37   \n",
      "\n",
      "      s5     s6  ...      s13      s14     s15   s16  s17   s18    s19    s20  \\\n",
      "0  14.62  21.61  ...  2388.22  8120.62  8.4698  0.03  392  2388  100.0  38.88   \n",
      "1  14.62  21.61  ...  2388.15  8217.12  8.5157  0.03  395  2388  100.0  38.43   \n",
      "2  14.62  21.61  ...  2388.11  8123.38  8.4527  0.03  395  2388  100.0  38.78   \n",
      "3  14.62  21.61  ...  2388.12  8135.94  8.4204  0.03  394  2388  100.0  38.90   \n",
      "4  14.62  21.61  ...  2388.11  8139.45  8.4108  0.03  394  2388  100.0  38.74   \n",
      "\n",
      "       s21  ttf  \n",
      "0  23.2864   74  \n",
      "1  23.0629    5  \n",
      "2  23.3090   84  \n",
      "3  23.3220  131  \n",
      "4  23.3972  116  \n",
      "\n",
      "[5 rows x 26 columns]\n"
     ]
    }
   ],
   "source": [
    "df = pd.read_csv('../Data/dataset_clean.csv')\n",
    "print(df.head(5))"
   ]
  },
  {
   "cell_type": "markdown",
   "id": "c70152d0",
   "metadata": {},
   "source": [
    "## Outlier Detection"
   ]
  },
  {
   "cell_type": "code",
   "execution_count": null,
   "id": "28581c5f",
   "metadata": {},
   "outputs": [],
   "source": []
  },
  {
   "cell_type": "markdown",
   "id": "39ae0e32",
   "metadata": {},
   "source": [
    "## Feature Distribution"
   ]
  },
  {
   "cell_type": "code",
   "execution_count": null,
   "id": "50a77435",
   "metadata": {},
   "outputs": [],
   "source": []
  },
  {
   "cell_type": "markdown",
   "id": "bf5439f6",
   "metadata": {},
   "source": [
    "## Feature Deviation"
   ]
  },
  {
   "cell_type": "code",
   "execution_count": null,
   "id": "83bc96e1",
   "metadata": {},
   "outputs": [],
   "source": []
  },
  {
   "cell_type": "markdown",
   "id": "2423e914",
   "metadata": {},
   "source": [
    "## Feature Correlation"
   ]
  },
  {
   "cell_type": "code",
   "execution_count": null,
   "id": "76d00dcc",
   "metadata": {},
   "outputs": [],
   "source": []
  }
 ],
 "metadata": {
  "kernelspec": {
   "display_name": "Python 3 (ipykernel)",
   "language": "python",
   "name": "python3"
  },
  "language_info": {
   "codemirror_mode": {
    "name": "ipython",
    "version": 3
   },
   "file_extension": ".py",
   "mimetype": "text/x-python",
   "name": "python",
   "nbconvert_exporter": "python",
   "pygments_lexer": "ipython3",
   "version": "3.9.13"
  }
 },
 "nbformat": 4,
 "nbformat_minor": 5
}
