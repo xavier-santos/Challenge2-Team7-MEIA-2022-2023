{
 "cells": [
  {
   "cell_type": "code",
   "execution_count": 75,
   "id": "135d820b",
   "metadata": {},
   "outputs": [],
   "source": [
    "import pandas as pd\n",
    "import numpy as np"
   ]
  },
  {
   "cell_type": "code",
   "execution_count": 76,
   "id": "2f638109",
   "metadata": {},
   "outputs": [
    {
     "name": "stdout",
     "output_type": "stream",
     "text": [
      "   id  cycle  setting1  setting2  setting3      s1      s2       s3       s4  \\\n",
      "0   1      1   -0.0007   -0.0004     100.0  518.67  641.82  1589.70  1400.60   \n",
      "1   1      2    0.0019   -0.0003     100.0  518.67  642.15  1591.82  1403.14   \n",
      "2   1      3   -0.0043    0.0003     100.0  518.67  642.35  1587.99  1404.20   \n",
      "3   1      4    0.0007    0.0000     100.0  518.67  642.35  1582.79  1401.87   \n",
      "4   1      5   -0.0019   -0.0002     100.0  518.67  642.37  1582.85  1406.22   \n",
      "\n",
      "      s5  ...     s12      s13      s14     s15   s16  s17   s18    s19  \\\n",
      "0  14.62  ...  521.66  2388.02  8138.62  8.4195  0.03  392  2388  100.0   \n",
      "1  14.62  ...  522.28  2388.07  8131.49  8.4318  0.03  392  2388  100.0   \n",
      "2  14.62  ...  522.42  2388.03  8133.23  8.4178  0.03  390  2388  100.0   \n",
      "3  14.62  ...  522.86  2388.08  8133.83  8.3682  0.03  392  2388  100.0   \n",
      "4  14.62  ...  522.19  2388.04  8133.80  8.4294  0.03  393  2388  100.0   \n",
      "\n",
      "     s20      s21  \n",
      "0  39.06  23.4190  \n",
      "1  39.00  23.4236  \n",
      "2  38.95  23.3442  \n",
      "3  38.88  23.3739  \n",
      "4  38.90  23.4044  \n",
      "\n",
      "[5 rows x 26 columns]\n"
     ]
    }
   ],
   "source": [
    "df = pd.read_csv('../Data/dataset.csv', delimiter=\";\")\n",
    "print(df.head(5))"
   ]
  },
  {
   "cell_type": "code",
   "execution_count": 77,
   "id": "5aa59f46",
   "metadata": {},
   "outputs": [
    {
     "name": "stdout",
     "output_type": "stream",
     "text": [
      "   id  cycle  setting1  setting2  setting3      s1      s2       s3       s4  \\\n",
      "0   1      1   -0.0007   -0.0004     100.0  518.67  641.82  1589.70  1400.60   \n",
      "1   1      2    0.0019   -0.0003     100.0  518.67  642.15  1591.82  1403.14   \n",
      "2   1      3   -0.0043    0.0003     100.0  518.67  642.35  1587.99  1404.20   \n",
      "3   1      4    0.0007    0.0000     100.0  518.67  642.35  1582.79  1401.87   \n",
      "4   1      5   -0.0019   -0.0002     100.0  518.67  642.37  1582.85  1406.22   \n",
      "\n",
      "      s5  ...      s13      s14     s15   s16  s17   s18    s19    s20  \\\n",
      "0  14.62  ...  2388.02  8138.62  8.4195  0.03  392  2388  100.0  39.06   \n",
      "1  14.62  ...  2388.07  8131.49  8.4318  0.03  392  2388  100.0  39.00   \n",
      "2  14.62  ...  2388.03  8133.23  8.4178  0.03  390  2388  100.0  38.95   \n",
      "3  14.62  ...  2388.08  8133.83  8.3682  0.03  392  2388  100.0  38.88   \n",
      "4  14.62  ...  2388.04  8133.80  8.4294  0.03  393  2388  100.0  38.90   \n",
      "\n",
      "       s21  ttf  \n",
      "0  23.4190  191  \n",
      "1  23.4236  190  \n",
      "2  23.3442  189  \n",
      "3  23.3739  188  \n",
      "4  23.4044  187  \n",
      "\n",
      "[5 rows x 27 columns]\n"
     ]
    }
   ],
   "source": [
    "df[\"ttf\"] = df.groupby(\"id\")[\"cycle\"].transform(\"max\")- df[\"cycle\"]\n",
    "print(df.head(5))"
   ]
  },
  {
   "cell_type": "code",
   "execution_count": 78,
   "id": "3ebd6901",
   "metadata": {},
   "outputs": [],
   "source": [
    "df1 = df[['id', 'ttf']]"
   ]
  },
  {
   "cell_type": "code",
   "execution_count": 79,
   "id": "7312c882",
   "metadata": {},
   "outputs": [],
   "source": [
    "np.random.seed(0)\n",
    "df1 = df1.groupby('id')['ttf'].apply(np.random.choice).reset_index()"
   ]
  },
  {
   "cell_type": "code",
   "execution_count": 80,
   "id": "1f55ba8a",
   "metadata": {},
   "outputs": [],
   "source": [
    "df1['maintenancetime'] = np.random.randint(1,5, size=len(df1))"
   ]
  },
  {
   "cell_type": "code",
   "execution_count": 81,
   "id": "ca49d2b0",
   "metadata": {},
   "outputs": [
    {
     "data": {
      "text/html": [
       "<div>\n",
       "<style scoped>\n",
       "    .dataframe tbody tr th:only-of-type {\n",
       "        vertical-align: middle;\n",
       "    }\n",
       "\n",
       "    .dataframe tbody tr th {\n",
       "        vertical-align: top;\n",
       "    }\n",
       "\n",
       "    .dataframe thead th {\n",
       "        text-align: right;\n",
       "    }\n",
       "</style>\n",
       "<table border=\"1\" class=\"dataframe\">\n",
       "  <thead>\n",
       "    <tr style=\"text-align: right;\">\n",
       "      <th></th>\n",
       "      <th>id</th>\n",
       "      <th>ttf</th>\n",
       "      <th>maintenancetime</th>\n",
       "    </tr>\n",
       "  </thead>\n",
       "  <tbody>\n",
       "    <tr>\n",
       "      <th>0</th>\n",
       "      <td>1</td>\n",
       "      <td>19</td>\n",
       "      <td>2</td>\n",
       "    </tr>\n",
       "    <tr>\n",
       "      <th>1</th>\n",
       "      <td>2</td>\n",
       "      <td>239</td>\n",
       "      <td>3</td>\n",
       "    </tr>\n",
       "    <tr>\n",
       "      <th>2</th>\n",
       "      <td>3</td>\n",
       "      <td>61</td>\n",
       "      <td>1</td>\n",
       "    </tr>\n",
       "    <tr>\n",
       "      <th>3</th>\n",
       "      <td>4</td>\n",
       "      <td>121</td>\n",
       "      <td>3</td>\n",
       "    </tr>\n",
       "    <tr>\n",
       "      <th>4</th>\n",
       "      <td>5</td>\n",
       "      <td>17</td>\n",
       "      <td>1</td>\n",
       "    </tr>\n",
       "  </tbody>\n",
       "</table>\n",
       "</div>"
      ],
      "text/plain": [
       "   id  ttf  maintenancetime\n",
       "0   1   19                2\n",
       "1   2  239                3\n",
       "2   3   61                1\n",
       "3   4  121                3\n",
       "4   5   17                1"
      ]
     },
     "execution_count": 81,
     "metadata": {},
     "output_type": "execute_result"
    }
   ],
   "source": [
    "df1.head()"
   ]
  },
  {
   "cell_type": "code",
   "execution_count": 82,
   "id": "ad8abce2",
   "metadata": {},
   "outputs": [],
   "source": [
    "df1.to_json('../Data/SchedulingData.json', orient='records', lines=True)"
   ]
  }
 ],
 "metadata": {
  "kernelspec": {
   "display_name": "Python 3 (ipykernel)",
   "language": "python",
   "name": "python3"
  },
  "language_info": {
   "codemirror_mode": {
    "name": "ipython",
    "version": 3
   },
   "file_extension": ".py",
   "mimetype": "text/x-python",
   "name": "python",
   "nbconvert_exporter": "python",
   "pygments_lexer": "ipython3",
   "version": "3.9.13"
  }
 },
 "nbformat": 4,
 "nbformat_minor": 5
}
