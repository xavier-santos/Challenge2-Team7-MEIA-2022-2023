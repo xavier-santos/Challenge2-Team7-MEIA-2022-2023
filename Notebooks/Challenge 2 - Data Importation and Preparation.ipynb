{
 "cells": [
  {
   "cell_type": "markdown",
   "id": "95b45d4c",
   "metadata": {},
   "source": [
    "# Introduction"
   ]
  },
  {
   "cell_type": "markdown",
   "id": "023e94de",
   "metadata": {},
   "source": [
    "Talk about the purpose of this stage of data importation and preparation. Quick summary of the topics we will be covering"
   ]
  },
  {
   "cell_type": "markdown",
   "id": "87948ffa",
   "metadata": {},
   "source": [
    "# 1. Importing data"
   ]
  },
  {
   "cell_type": "code",
   "execution_count": 19,
   "id": "e3a83e64",
   "metadata": {},
   "outputs": [],
   "source": [
    "import numpy as np\n",
    "import pandas as pd\n",
    "from IPython.display import *\n",
    "from ipywidgets import *\n",
    "from functools import partial\n",
    "import matplotlib.pyplot "
   ]
  },
  {
   "cell_type": "code",
   "execution_count": 20,
   "id": "aa9b180a",
   "metadata": {},
   "outputs": [
    {
     "name": "stdout",
     "output_type": "stream",
     "text": [
      "   id  cycle  setting1  setting2  setting3      s1      s2       s3       s4  \\\n",
      "0   1      1   -0.0007   -0.0004     100.0  518.67  641.82  1589.70  1400.60   \n",
      "1   1      2    0.0019   -0.0003     100.0  518.67  642.15  1591.82  1403.14   \n",
      "2   1      3   -0.0043    0.0003     100.0  518.67  642.35  1587.99  1404.20   \n",
      "3   1      4    0.0007    0.0000     100.0  518.67  642.35  1582.79  1401.87   \n",
      "4   1      5   -0.0019   -0.0002     100.0  518.67  642.37  1582.85  1406.22   \n",
      "\n",
      "      s5  ...     s12      s13      s14     s15   s16  s17   s18    s19  \\\n",
      "0  14.62  ...  521.66  2388.02  8138.62  8.4195  0.03  392  2388  100.0   \n",
      "1  14.62  ...  522.28  2388.07  8131.49  8.4318  0.03  392  2388  100.0   \n",
      "2  14.62  ...  522.42  2388.03  8133.23  8.4178  0.03  390  2388  100.0   \n",
      "3  14.62  ...  522.86  2388.08  8133.83  8.3682  0.03  392  2388  100.0   \n",
      "4  14.62  ...  522.19  2388.04  8133.80  8.4294  0.03  393  2388  100.0   \n",
      "\n",
      "     s20      s21  \n",
      "0  39.06  23.4190  \n",
      "1  39.00  23.4236  \n",
      "2  38.95  23.3442  \n",
      "3  38.88  23.3739  \n",
      "4  38.90  23.4044  \n",
      "\n",
      "[5 rows x 26 columns]\n"
     ]
    }
   ],
   "source": [
    "df = pd.read_csv('../Data/dataset.csv', na_values=['#EMPTY?'], delimiter=\";\")\n",
    "print(df.head(5))"
   ]
  },
  {
   "cell_type": "code",
   "execution_count": 21,
   "id": "ee82a2c4",
   "metadata": {},
   "outputs": [
    {
     "name": "stdout",
     "output_type": "stream",
     "text": [
      "Number of unique engine IDs:\n",
      "100\n"
     ]
    }
   ],
   "source": [
    "print(\"Number of unique engine IDs:\")\n",
    "print(df[\"id\"].unique().size)"
   ]
  },
  {
   "cell_type": "markdown",
   "id": "52bdc898",
   "metadata": {},
   "source": [
    "# 2. Data Cleaning"
   ]
  },
  {
   "cell_type": "markdown",
   "id": "c86d9c1b",
   "metadata": {},
   "source": [
    "## 2.A. Type Checking"
   ]
  },
  {
   "cell_type": "code",
   "execution_count": 22,
   "id": "218c3363",
   "metadata": {},
   "outputs": [
    {
     "data": {
      "text/plain": [
       "id            int64\n",
       "cycle         int64\n",
       "setting1    float64\n",
       "setting2    float64\n",
       "setting3    float64\n",
       "s1          float64\n",
       "s2          float64\n",
       "s3          float64\n",
       "s4          float64\n",
       "s5          float64\n",
       "s6          float64\n",
       "s7          float64\n",
       "s8          float64\n",
       "s9          float64\n",
       "s10         float64\n",
       "s11         float64\n",
       "s12         float64\n",
       "s13         float64\n",
       "s14         float64\n",
       "s15         float64\n",
       "s16         float64\n",
       "s17           int64\n",
       "s18           int64\n",
       "s19         float64\n",
       "s20         float64\n",
       "s21         float64\n",
       "dtype: object"
      ]
     },
     "execution_count": 22,
     "metadata": {},
     "output_type": "execute_result"
    }
   ],
   "source": [
    "df.dtypes"
   ]
  },
  {
   "cell_type": "markdown",
   "id": "4576b6fd",
   "metadata": {},
   "source": [
    "## 2.B. Null Check"
   ]
  },
  {
   "cell_type": "code",
   "execution_count": 23,
   "id": "e8d13c01",
   "metadata": {},
   "outputs": [
    {
     "data": {
      "text/plain": [
       "id          0\n",
       "cycle       0\n",
       "setting1    0\n",
       "setting2    0\n",
       "setting3    0\n",
       "s1          0\n",
       "s2          0\n",
       "s3          0\n",
       "s4          0\n",
       "s5          0\n",
       "s6          0\n",
       "s7          0\n",
       "s8          0\n",
       "s9          0\n",
       "s10         0\n",
       "s11         0\n",
       "s12         0\n",
       "s13         0\n",
       "s14         0\n",
       "s15         0\n",
       "s16         0\n",
       "s17         0\n",
       "s18         0\n",
       "s19         0\n",
       "s20         0\n",
       "s21         0\n",
       "dtype: int64"
      ]
     },
     "execution_count": 23,
     "metadata": {},
     "output_type": "execute_result"
    }
   ],
   "source": [
    "df.isnull().sum()"
   ]
  },
  {
   "cell_type": "markdown",
   "id": "ee6098f6",
   "metadata": {},
   "source": [
    "## 2.C. Data Description"
   ]
  },
  {
   "cell_type": "code",
   "execution_count": 24,
   "id": "2412a0be",
   "metadata": {
    "scrolled": true
   },
   "outputs": [
    {
     "data": {
      "text/html": [
       "<div>\n",
       "<style scoped>\n",
       "    .dataframe tbody tr th:only-of-type {\n",
       "        vertical-align: middle;\n",
       "    }\n",
       "\n",
       "    .dataframe tbody tr th {\n",
       "        vertical-align: top;\n",
       "    }\n",
       "\n",
       "    .dataframe thead th {\n",
       "        text-align: right;\n",
       "    }\n",
       "</style>\n",
       "<table border=\"1\" class=\"dataframe\">\n",
       "  <thead>\n",
       "    <tr style=\"text-align: right;\">\n",
       "      <th></th>\n",
       "      <th>id</th>\n",
       "      <th>cycle</th>\n",
       "      <th>setting1</th>\n",
       "      <th>setting2</th>\n",
       "      <th>setting3</th>\n",
       "      <th>s1</th>\n",
       "      <th>s2</th>\n",
       "      <th>s3</th>\n",
       "      <th>s4</th>\n",
       "      <th>s5</th>\n",
       "      <th>...</th>\n",
       "      <th>s12</th>\n",
       "      <th>s13</th>\n",
       "      <th>s14</th>\n",
       "      <th>s15</th>\n",
       "      <th>s16</th>\n",
       "      <th>s17</th>\n",
       "      <th>s18</th>\n",
       "      <th>s19</th>\n",
       "      <th>s20</th>\n",
       "      <th>s21</th>\n",
       "    </tr>\n",
       "  </thead>\n",
       "  <tbody>\n",
       "    <tr>\n",
       "      <th>count</th>\n",
       "      <td>20631.000000</td>\n",
       "      <td>20631.000000</td>\n",
       "      <td>20631.000000</td>\n",
       "      <td>20631.000000</td>\n",
       "      <td>20631.0</td>\n",
       "      <td>2.063100e+04</td>\n",
       "      <td>20631.000000</td>\n",
       "      <td>20631.000000</td>\n",
       "      <td>20631.000000</td>\n",
       "      <td>2.063100e+04</td>\n",
       "      <td>...</td>\n",
       "      <td>20631.000000</td>\n",
       "      <td>20631.000000</td>\n",
       "      <td>20631.000000</td>\n",
       "      <td>20631.000000</td>\n",
       "      <td>2.063100e+04</td>\n",
       "      <td>20631.000000</td>\n",
       "      <td>20631.0</td>\n",
       "      <td>20631.0</td>\n",
       "      <td>20631.000000</td>\n",
       "      <td>20631.000000</td>\n",
       "    </tr>\n",
       "    <tr>\n",
       "      <th>mean</th>\n",
       "      <td>51.506568</td>\n",
       "      <td>108.807862</td>\n",
       "      <td>-0.000009</td>\n",
       "      <td>0.000002</td>\n",
       "      <td>100.0</td>\n",
       "      <td>5.186700e+02</td>\n",
       "      <td>642.680934</td>\n",
       "      <td>1590.523119</td>\n",
       "      <td>1408.933782</td>\n",
       "      <td>1.462000e+01</td>\n",
       "      <td>...</td>\n",
       "      <td>521.413470</td>\n",
       "      <td>2388.096152</td>\n",
       "      <td>8143.752722</td>\n",
       "      <td>8.442146</td>\n",
       "      <td>3.000000e-02</td>\n",
       "      <td>393.210654</td>\n",
       "      <td>2388.0</td>\n",
       "      <td>100.0</td>\n",
       "      <td>38.816271</td>\n",
       "      <td>23.289705</td>\n",
       "    </tr>\n",
       "    <tr>\n",
       "      <th>std</th>\n",
       "      <td>29.227633</td>\n",
       "      <td>68.880990</td>\n",
       "      <td>0.002187</td>\n",
       "      <td>0.000293</td>\n",
       "      <td>0.0</td>\n",
       "      <td>6.537152e-11</td>\n",
       "      <td>0.500053</td>\n",
       "      <td>6.131150</td>\n",
       "      <td>9.000605</td>\n",
       "      <td>3.394700e-12</td>\n",
       "      <td>...</td>\n",
       "      <td>0.737553</td>\n",
       "      <td>0.071919</td>\n",
       "      <td>19.076176</td>\n",
       "      <td>0.037505</td>\n",
       "      <td>1.556432e-14</td>\n",
       "      <td>1.548763</td>\n",
       "      <td>0.0</td>\n",
       "      <td>0.0</td>\n",
       "      <td>0.180746</td>\n",
       "      <td>0.108251</td>\n",
       "    </tr>\n",
       "    <tr>\n",
       "      <th>min</th>\n",
       "      <td>1.000000</td>\n",
       "      <td>1.000000</td>\n",
       "      <td>-0.008700</td>\n",
       "      <td>-0.000600</td>\n",
       "      <td>100.0</td>\n",
       "      <td>5.186700e+02</td>\n",
       "      <td>641.210000</td>\n",
       "      <td>1571.040000</td>\n",
       "      <td>1382.250000</td>\n",
       "      <td>1.462000e+01</td>\n",
       "      <td>...</td>\n",
       "      <td>518.690000</td>\n",
       "      <td>2387.880000</td>\n",
       "      <td>8099.940000</td>\n",
       "      <td>8.324900</td>\n",
       "      <td>3.000000e-02</td>\n",
       "      <td>388.000000</td>\n",
       "      <td>2388.0</td>\n",
       "      <td>100.0</td>\n",
       "      <td>38.140000</td>\n",
       "      <td>22.894200</td>\n",
       "    </tr>\n",
       "    <tr>\n",
       "      <th>25%</th>\n",
       "      <td>26.000000</td>\n",
       "      <td>52.000000</td>\n",
       "      <td>-0.001500</td>\n",
       "      <td>-0.000200</td>\n",
       "      <td>100.0</td>\n",
       "      <td>5.186700e+02</td>\n",
       "      <td>642.325000</td>\n",
       "      <td>1586.260000</td>\n",
       "      <td>1402.360000</td>\n",
       "      <td>1.462000e+01</td>\n",
       "      <td>...</td>\n",
       "      <td>520.960000</td>\n",
       "      <td>2388.040000</td>\n",
       "      <td>8133.245000</td>\n",
       "      <td>8.414900</td>\n",
       "      <td>3.000000e-02</td>\n",
       "      <td>392.000000</td>\n",
       "      <td>2388.0</td>\n",
       "      <td>100.0</td>\n",
       "      <td>38.700000</td>\n",
       "      <td>23.221800</td>\n",
       "    </tr>\n",
       "    <tr>\n",
       "      <th>50%</th>\n",
       "      <td>52.000000</td>\n",
       "      <td>104.000000</td>\n",
       "      <td>0.000000</td>\n",
       "      <td>0.000000</td>\n",
       "      <td>100.0</td>\n",
       "      <td>5.186700e+02</td>\n",
       "      <td>642.640000</td>\n",
       "      <td>1590.100000</td>\n",
       "      <td>1408.040000</td>\n",
       "      <td>1.462000e+01</td>\n",
       "      <td>...</td>\n",
       "      <td>521.480000</td>\n",
       "      <td>2388.090000</td>\n",
       "      <td>8140.540000</td>\n",
       "      <td>8.438900</td>\n",
       "      <td>3.000000e-02</td>\n",
       "      <td>393.000000</td>\n",
       "      <td>2388.0</td>\n",
       "      <td>100.0</td>\n",
       "      <td>38.830000</td>\n",
       "      <td>23.297900</td>\n",
       "    </tr>\n",
       "    <tr>\n",
       "      <th>75%</th>\n",
       "      <td>77.000000</td>\n",
       "      <td>156.000000</td>\n",
       "      <td>0.001500</td>\n",
       "      <td>0.000300</td>\n",
       "      <td>100.0</td>\n",
       "      <td>5.186700e+02</td>\n",
       "      <td>643.000000</td>\n",
       "      <td>1594.380000</td>\n",
       "      <td>1414.555000</td>\n",
       "      <td>1.462000e+01</td>\n",
       "      <td>...</td>\n",
       "      <td>521.950000</td>\n",
       "      <td>2388.140000</td>\n",
       "      <td>8148.310000</td>\n",
       "      <td>8.465600</td>\n",
       "      <td>3.000000e-02</td>\n",
       "      <td>394.000000</td>\n",
       "      <td>2388.0</td>\n",
       "      <td>100.0</td>\n",
       "      <td>38.950000</td>\n",
       "      <td>23.366800</td>\n",
       "    </tr>\n",
       "    <tr>\n",
       "      <th>max</th>\n",
       "      <td>100.000000</td>\n",
       "      <td>362.000000</td>\n",
       "      <td>0.008700</td>\n",
       "      <td>0.000600</td>\n",
       "      <td>100.0</td>\n",
       "      <td>5.186700e+02</td>\n",
       "      <td>644.530000</td>\n",
       "      <td>1616.910000</td>\n",
       "      <td>1441.490000</td>\n",
       "      <td>1.462000e+01</td>\n",
       "      <td>...</td>\n",
       "      <td>523.380000</td>\n",
       "      <td>2388.560000</td>\n",
       "      <td>8293.720000</td>\n",
       "      <td>8.584800</td>\n",
       "      <td>3.000000e-02</td>\n",
       "      <td>400.000000</td>\n",
       "      <td>2388.0</td>\n",
       "      <td>100.0</td>\n",
       "      <td>39.430000</td>\n",
       "      <td>23.618400</td>\n",
       "    </tr>\n",
       "  </tbody>\n",
       "</table>\n",
       "<p>8 rows × 26 columns</p>\n",
       "</div>"
      ],
      "text/plain": [
       "                 id         cycle      setting1      setting2  setting3  \\\n",
       "count  20631.000000  20631.000000  20631.000000  20631.000000   20631.0   \n",
       "mean      51.506568    108.807862     -0.000009      0.000002     100.0   \n",
       "std       29.227633     68.880990      0.002187      0.000293       0.0   \n",
       "min        1.000000      1.000000     -0.008700     -0.000600     100.0   \n",
       "25%       26.000000     52.000000     -0.001500     -0.000200     100.0   \n",
       "50%       52.000000    104.000000      0.000000      0.000000     100.0   \n",
       "75%       77.000000    156.000000      0.001500      0.000300     100.0   \n",
       "max      100.000000    362.000000      0.008700      0.000600     100.0   \n",
       "\n",
       "                 s1            s2            s3            s4            s5  \\\n",
       "count  2.063100e+04  20631.000000  20631.000000  20631.000000  2.063100e+04   \n",
       "mean   5.186700e+02    642.680934   1590.523119   1408.933782  1.462000e+01   \n",
       "std    6.537152e-11      0.500053      6.131150      9.000605  3.394700e-12   \n",
       "min    5.186700e+02    641.210000   1571.040000   1382.250000  1.462000e+01   \n",
       "25%    5.186700e+02    642.325000   1586.260000   1402.360000  1.462000e+01   \n",
       "50%    5.186700e+02    642.640000   1590.100000   1408.040000  1.462000e+01   \n",
       "75%    5.186700e+02    643.000000   1594.380000   1414.555000  1.462000e+01   \n",
       "max    5.186700e+02    644.530000   1616.910000   1441.490000  1.462000e+01   \n",
       "\n",
       "       ...           s12           s13           s14           s15  \\\n",
       "count  ...  20631.000000  20631.000000  20631.000000  20631.000000   \n",
       "mean   ...    521.413470   2388.096152   8143.752722      8.442146   \n",
       "std    ...      0.737553      0.071919     19.076176      0.037505   \n",
       "min    ...    518.690000   2387.880000   8099.940000      8.324900   \n",
       "25%    ...    520.960000   2388.040000   8133.245000      8.414900   \n",
       "50%    ...    521.480000   2388.090000   8140.540000      8.438900   \n",
       "75%    ...    521.950000   2388.140000   8148.310000      8.465600   \n",
       "max    ...    523.380000   2388.560000   8293.720000      8.584800   \n",
       "\n",
       "                s16           s17      s18      s19           s20  \\\n",
       "count  2.063100e+04  20631.000000  20631.0  20631.0  20631.000000   \n",
       "mean   3.000000e-02    393.210654   2388.0    100.0     38.816271   \n",
       "std    1.556432e-14      1.548763      0.0      0.0      0.180746   \n",
       "min    3.000000e-02    388.000000   2388.0    100.0     38.140000   \n",
       "25%    3.000000e-02    392.000000   2388.0    100.0     38.700000   \n",
       "50%    3.000000e-02    393.000000   2388.0    100.0     38.830000   \n",
       "75%    3.000000e-02    394.000000   2388.0    100.0     38.950000   \n",
       "max    3.000000e-02    400.000000   2388.0    100.0     39.430000   \n",
       "\n",
       "                s21  \n",
       "count  20631.000000  \n",
       "mean      23.289705  \n",
       "std        0.108251  \n",
       "min       22.894200  \n",
       "25%       23.221800  \n",
       "50%       23.297900  \n",
       "75%       23.366800  \n",
       "max       23.618400  \n",
       "\n",
       "[8 rows x 26 columns]"
      ]
     },
     "execution_count": 24,
     "metadata": {},
     "output_type": "execute_result"
    }
   ],
   "source": [
    "df.describe()"
   ]
  },
  {
   "cell_type": "code",
   "execution_count": 47,
   "id": "324ecfca",
   "metadata": {},
   "outputs": [
    {
     "data": {
      "application/vnd.jupyter.widget-view+json": {
       "model_id": "8563be6563d942e8a5725fd0e85656e8",
       "version_major": 2,
       "version_minor": 0
      },
      "text/plain": [
       "Dropdown(index=3, options=('id', 'cycle', 'setting1', 'setting2', 'setting3', 's1', 's2', 's3', 's4', 's5', 's…"
      ]
     },
     "metadata": {},
     "output_type": "display_data"
    },
    {
     "data": {
      "image/png": "[encoded data removed]",
      "text/plain": [
       "<Figure size 640x480 with 1 Axes>"
      ]
     },
     "metadata": {},
     "output_type": "display_data"
    }
   ],
   "source": [
    "drop_down_values = Dropdown(options = df.columns)\n",
    "selected_field = drop_down_values.value\n",
    "selected_id = 1\n",
    "    \n",
    "def dropdown_distribuition_handler(change):\n",
    "    selected_field = drop_down_values.value\n",
    "    a = df.loc[df['id'] == selected_id]\n",
    "    plt.plot(a['cycle'], a[selected_field], label = selected_field)\n",
    "    plt.title(f\"Engine ID {selected_id}\")\n",
    "    plt.legend()\n",
    "    clear_output(wait=True)\n",
    "    display(drop_down_values)\n",
    "    plt.show()\n",
    "    \n",
    "drop_down_values.observe(dropdown_distribuition_handler, names='value')\n",
    "display(drop_down_values)\n",
    "a = df.loc[df['id'] == selected_id]\n",
    "plt.plot(a['cycle'], a[selected_field], label = selected_field)\n",
    "plt.title(f\"Engine ID {selected_id}\")\n",
    "plt.legend()\n",
    "plt.show()\n",
    "    "
   ]
  },
  {
   "cell_type": "markdown",
   "id": "df833cff",
   "metadata": {},
   "source": [
    "# 3. Data Preparation"
   ]
  },
  {
   "cell_type": "markdown",
   "id": "2960e9e7",
   "metadata": {},
   "source": [
    "## 3.A. TTF Calculation\n",
    "Time to failure (TTF) is an important **measure of the reliability** of a system or component. It is the **amount of time that a system or component is expected to function before it fails**. In many industries, such as aerospace, automotive, and manufacturing, TTF is a critical metric for determining the longevity and reliability of a system or component.\n",
    "On our case, the TTF is the **number of cycles** until failure of the aircraft engine."
   ]
  },
  {
   "cell_type": "code",
   "execution_count": 12,
   "id": "b363f041",
   "metadata": {},
   "outputs": [
    {
     "name": "stdout",
     "output_type": "stream",
     "text": [
      "0\n"
     ]
    }
   ],
   "source": [
    "df[\"ttf\"] = df.groupby(\"id\")[\"cycle\"].transform(\"max\")- df[\"cycle\"]\n",
    "print(df[\"ttf\"].min())"
   ]
  },
  {
   "cell_type": "code",
   "execution_count": null,
   "id": "3db4706c",
   "metadata": {},
   "outputs": [],
   "source": [
    "maxttfbyid = df.groupby(\"id\")[\"ttf\"].max()\n",
    "maxttfbyid.plot(kind='hist', edgecolor='black')"
   ]
  },
  {
   "cell_type": "code",
   "execution_count": 10,
   "id": "7b194e65",
   "metadata": {
    "scrolled": true
   },
   "outputs": [
    {
     "name": "stdout",
     "output_type": "stream",
     "text": [
      "        id  cycle  setting1  setting2  setting3      s1      s2       s3  \\\n",
      "191      1    192    0.0009   -0.0000     100.0  518.67  643.54  1601.41   \n",
      "478      2    287   -0.0005    0.0006     100.0  518.67  643.85  1608.50   \n",
      "657      3    179    0.0012    0.0000     100.0  518.67  643.51  1604.80   \n",
      "846      4    189   -0.0024   -0.0002     100.0  518.67  644.53  1612.11   \n",
      "1115     5    269    0.0022    0.0003     100.0  518.67  643.46  1597.28   \n",
      "...    ...    ...       ...       ...       ...     ...     ...      ...   \n",
      "19887   96    336   -0.0031   -0.0005     100.0  518.67  643.74  1599.20   \n",
      "20089   97    202    0.0014    0.0001     100.0  518.67  643.79  1610.66   \n",
      "20245   98    156    0.0077   -0.0003     100.0  518.67  643.02  1603.77   \n",
      "20430   99    185   -0.0019   -0.0004     100.0  518.67  643.93  1598.42   \n",
      "20630  100    200   -0.0032   -0.0005     100.0  518.67  643.85  1600.38   \n",
      "\n",
      "            s4     s5  ...      s13      s14     s15   s16  s17   s18    s19  \\\n",
      "191    1427.20  14.62  ...  2388.32  8110.93  8.5113  0.03  396  2388  100.0   \n",
      "478    1430.84  14.62  ...  2388.21  8175.57  8.5365  0.03  398  2388  100.0   \n",
      "657    1428.23  14.62  ...  2388.20  8255.34  8.5056  0.03  398  2388  100.0   \n",
      "846    1432.55  14.62  ...  2388.16  8259.42  8.5246  0.03  398  2388  100.0   \n",
      "1115   1430.74  14.62  ...  2388.16  8212.75  8.5209  0.03  397  2388  100.0   \n",
      "...        ...    ...  ...      ...      ...     ...   ...  ...   ...    ...   \n",
      "19887  1432.12  14.62  ...  2388.24  8144.03  8.5022  0.03  397  2388  100.0   \n",
      "20089  1427.41  14.62  ...  2388.15  8263.63  8.5277  0.03  397  2388  100.0   \n",
      "20245  1432.16  14.62  ...  2388.26  8122.22  8.5308  0.03  396  2388  100.0   \n",
      "20430  1421.56  14.62  ...  2388.24  8127.53  8.5425  0.03  397  2388  100.0   \n",
      "20630  1432.14  14.62  ...  2388.26  8137.33  8.5036  0.03  396  2388  100.0   \n",
      "\n",
      "         s20      s21  ttf  \n",
      "191    38.48  22.9649    0  \n",
      "478    38.43  23.0848    0  \n",
      "657    38.40  22.9562    0  \n",
      "846    38.44  23.1006    0  \n",
      "1115   38.45  23.0296    0  \n",
      "...      ...      ...  ...  \n",
      "19887  38.36  23.0258    0  \n",
      "20089  38.29  23.1184    0  \n",
      "20245  38.33  23.1137    0  \n",
      "20430  38.49  23.1931    0  \n",
      "20630  38.37  23.0522    0  \n",
      "\n",
      "[100 rows x 27 columns]\n"
     ]
    },
    {
     "data": {
      "application/vnd.jupyter.widget-view+json": {
       "model_id": "40eac8082c1b4269b186f9c048cd4902",
       "version_major": 2,
       "version_minor": 0
      },
      "text/plain": [
       "Dropdown(options=('id', 'cycle', 'setting1', 'setting2', 'setting3', 's1', 's2', 's3', 's4', 's5', 's6', 's7',…"
      ]
     },
     "metadata": {},
     "output_type": "display_data"
    },
    {
     "data": {
      "text/plain": [
       "<AxesSubplot:ylabel='Frequency'>"
      ]
     },
     "execution_count": 10,
     "metadata": {},
     "output_type": "execute_result"
    },
    {
     "data": {
      "image/png": "[encoded data removed]",
      "text/plain": [
       "<Figure size 640x480 with 1 Axes>"
      ]
     },
     "metadata": {},
     "output_type": "display_data"
    }
   ],
   "source": [
    "a = df.loc[df['ttf'] == 0]\n",
    "print(a)\n",
    "\n",
    "drop_down_distribuition = Dropdown(options = a.columns)\n",
    "selected_distribuition = drop_down_distribuition.value\n",
    "\n",
    "def dropdown_distribuition_handler(change):\n",
    "    selected_distribuition = change.new \n",
    "    clear_output(wait=True)\n",
    "    a[selected_distribuition].plot(kind='hist', edgecolor='black')\n",
    "    display(drop_down_distribuition)\n",
    "    \n",
    "drop_down_distribuition.observe(dropdown_distribuition_handler, names='value')\n",
    "display(drop_down_distribuition)\n",
    "df[selected_distribuition].plot(kind='hist', edgecolor='black')"
   ]
  },
  {
   "cell_type": "markdown",
   "id": "56368203",
   "metadata": {},
   "source": [
    "## 3.B. ID Column Deletion\n",
    "IDs should be removed from the dataset because they are often unique to individual instances and do not provide any **useful** information for the model. Additionally, using IDs as features in a model can introduce **bias**, since they can allow the model to learn to associate certain IDs with specific outcomes, which may not generalize to new data. Removing IDs from the dataset can help prevent these issues and **improve the performance of the model**."
   ]
  },
  {
   "cell_type": "code",
   "execution_count": null,
   "id": "ad921c13",
   "metadata": {},
   "outputs": [],
   "source": [
    "df = df.drop(\"id\", 1)\n",
    "df.head(5)"
   ]
  },
  {
   "cell_type": "markdown",
   "id": "920c4278",
   "metadata": {},
   "source": [
    "# 3.C. Data Shuffling\n",
    "Data shuffling is the process of randomly rearranging the order of the instances in the dataset. This is important because it can help prevent the model from **overfitting to the data** by introducing randomness and reducing the chance that the model will learn to rely on any particular pattern in the data. Data shuffling can also **improve the performance of the model** by ensuring that the training data is distributed evenly across all the features, which can help the model learn to make more accurate predictions."
   ]
  },
  {
   "cell_type": "code",
   "execution_count": null,
   "id": "e7954f15",
   "metadata": {},
   "outputs": [],
   "source": [
    "df = df.sample(frac=1)\n",
    "df.head(5)"
   ]
  },
  {
   "cell_type": "markdown",
   "id": "77603a87",
   "metadata": {},
   "source": [
    "# 4. Exporting Data"
   ]
  },
  {
   "cell_type": "code",
   "execution_count": null,
   "id": "6984b1d6",
   "metadata": {},
   "outputs": [],
   "source": [
    "df.to_csv('../Data/dataset_clean.csv', index=False)"
   ]
  }
 ],
 "metadata": {
  "kernelspec": {
   "display_name": "Python 3 (ipykernel)",
   "language": "python",
   "name": "python3"
  },
  "language_info": {
   "codemirror_mode": {
    "name": "ipython",
    "version": 3
   },
   "file_extension": ".py",
   "mimetype": "text/x-python",
   "name": "python",
   "nbconvert_exporter": "python",
   "pygments_lexer": "ipython3",
   "version": "3.9.13"
  }
 },
 "nbformat": 4,
 "nbformat_minor": 5
}
