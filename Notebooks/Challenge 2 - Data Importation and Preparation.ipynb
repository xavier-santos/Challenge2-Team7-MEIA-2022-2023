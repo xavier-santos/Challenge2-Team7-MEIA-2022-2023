{
 "cells": [
  {
   "cell_type": "markdown",
   "id": "95b45d4c",
   "metadata": {},
   "source": [
    "# Introduction"
   ]
  },
  {
   "cell_type": "markdown",
   "id": "023e94de",
   "metadata": {},
   "source": [
    "Talk about the purpose of this stage of data importation and preparation. Quick summary of the topics we will be covering"
   ]
  },
  {
   "cell_type": "markdown",
   "id": "87948ffa",
   "metadata": {},
   "source": [
    "# 1. Importing data"
   ]
  },
  {
   "cell_type": "code",
   "execution_count": 38,
   "id": "e3a83e64",
   "metadata": {},
   "outputs": [],
   "source": [
    "import numpy as np\n",
    "import pandas as pd\n",
    "from IPython.display import *\n",
    "from ipywidgets import *"
   ]
  },
  {
   "cell_type": "code",
   "execution_count": 39,
   "id": "aa9b180a",
   "metadata": {},
   "outputs": [
    {
     "name": "stdout",
     "output_type": "stream",
     "text": [
      "   id  cycle  setting1  setting2  setting3      s1      s2       s3       s4  \\\n",
      "0   1      1   -0.0007   -0.0004     100.0  518.67  641.82  1589.70  1400.60   \n",
      "1   1      2    0.0019   -0.0003     100.0  518.67  642.15  1591.82  1403.14   \n",
      "2   1      3   -0.0043    0.0003     100.0  518.67  642.35  1587.99  1404.20   \n",
      "3   1      4    0.0007    0.0000     100.0  518.67  642.35  1582.79  1401.87   \n",
      "4   1      5   -0.0019   -0.0002     100.0  518.67  642.37  1582.85  1406.22   \n",
      "\n",
      "      s5  ...     s12      s13      s14     s15   s16  s17   s18    s19  \\\n",
      "0  14.62  ...  521.66  2388.02  8138.62  8.4195  0.03  392  2388  100.0   \n",
      "1  14.62  ...  522.28  2388.07  8131.49  8.4318  0.03  392  2388  100.0   \n",
      "2  14.62  ...  522.42  2388.03  8133.23  8.4178  0.03  390  2388  100.0   \n",
      "3  14.62  ...  522.86  2388.08  8133.83  8.3682  0.03  392  2388  100.0   \n",
      "4  14.62  ...  522.19  2388.04  8133.80  8.4294  0.03  393  2388  100.0   \n",
      "\n",
      "     s20      s21  \n",
      "0  39.06  23.4190  \n",
      "1  39.00  23.4236  \n",
      "2  38.95  23.3442  \n",
      "3  38.88  23.3739  \n",
      "4  38.90  23.4044  \n",
      "\n",
      "[5 rows x 26 columns]\n"
     ]
    }
   ],
   "source": [
    "df = pd.read_csv('../Data/dataset.csv', na_values=['#EMPTY?'], delimiter=\";\")\n",
    "print(df.head(5))"
   ]
  },
  {
   "cell_type": "code",
   "execution_count": 40,
   "id": "ee82a2c4",
   "metadata": {},
   "outputs": [
    {
     "name": "stdout",
     "output_type": "stream",
     "text": [
      "Number of unique engine IDs:\n",
      "100\n"
     ]
    }
   ],
   "source": [
    "print(\"Number of unique engine IDs:\")\n",
    "print(df[\"id\"].unique().size)"
   ]
  },
  {
   "cell_type": "markdown",
   "id": "52bdc898",
   "metadata": {},
   "source": [
    "# 2. Data Cleaning"
   ]
  },
  {
   "cell_type": "markdown",
   "id": "c86d9c1b",
   "metadata": {},
   "source": [
    "## 2.A. Type Checking"
   ]
  },
  {
   "cell_type": "code",
   "execution_count": 41,
   "id": "218c3363",
   "metadata": {},
   "outputs": [
    {
     "data": {
      "text/plain": [
       "id            int64\n",
       "cycle         int64\n",
       "setting1    float64\n",
       "setting2    float64\n",
       "setting3    float64\n",
       "s1          float64\n",
       "s2          float64\n",
       "s3          float64\n",
       "s4          float64\n",
       "s5          float64\n",
       "s6          float64\n",
       "s7          float64\n",
       "s8          float64\n",
       "s9          float64\n",
       "s10         float64\n",
       "s11         float64\n",
       "s12         float64\n",
       "s13         float64\n",
       "s14         float64\n",
       "s15         float64\n",
       "s16         float64\n",
       "s17           int64\n",
       "s18           int64\n",
       "s19         float64\n",
       "s20         float64\n",
       "s21         float64\n",
       "dtype: object"
      ]
     },
     "execution_count": 41,
     "metadata": {},
     "output_type": "execute_result"
    }
   ],
   "source": [
    "df.dtypes"
   ]
  },
  {
   "cell_type": "markdown",
   "id": "4576b6fd",
   "metadata": {},
   "source": [
    "## 2.B. Null Check"
   ]
  },
  {
   "cell_type": "code",
   "execution_count": 42,
   "id": "e8d13c01",
   "metadata": {},
   "outputs": [
    {
     "data": {
      "text/plain": [
       "id          0\n",
       "cycle       0\n",
       "setting1    0\n",
       "setting2    0\n",
       "setting3    0\n",
       "s1          0\n",
       "s2          0\n",
       "s3          0\n",
       "s4          0\n",
       "s5          0\n",
       "s6          0\n",
       "s7          0\n",
       "s8          0\n",
       "s9          0\n",
       "s10         0\n",
       "s11         0\n",
       "s12         0\n",
       "s13         0\n",
       "s14         0\n",
       "s15         0\n",
       "s16         0\n",
       "s17         0\n",
       "s18         0\n",
       "s19         0\n",
       "s20         0\n",
       "s21         0\n",
       "dtype: int64"
      ]
     },
     "execution_count": 42,
     "metadata": {},
     "output_type": "execute_result"
    }
   ],
   "source": [
    "df.isnull().sum()"
   ]
  },
  {
   "cell_type": "markdown",
   "id": "ee6098f6",
   "metadata": {},
   "source": [
    "## 2.C. Data Description"
   ]
  },
  {
   "cell_type": "code",
   "execution_count": 43,
   "id": "2412a0be",
   "metadata": {},
   "outputs": [
    {
     "data": {
      "text/html": [
       "<div>\n",
       "<style scoped>\n",
       "    .dataframe tbody tr th:only-of-type {\n",
       "        vertical-align: middle;\n",
       "    }\n",
       "\n",
       "    .dataframe tbody tr th {\n",
       "        vertical-align: top;\n",
       "    }\n",
       "\n",
       "    .dataframe thead th {\n",
       "        text-align: right;\n",
       "    }\n",
       "</style>\n",
       "<table border=\"1\" class=\"dataframe\">\n",
       "  <thead>\n",
       "    <tr style=\"text-align: right;\">\n",
       "      <th></th>\n",
       "      <th>id</th>\n",
       "      <th>cycle</th>\n",
       "      <th>setting1</th>\n",
       "      <th>setting2</th>\n",
       "      <th>setting3</th>\n",
       "      <th>s1</th>\n",
       "      <th>s2</th>\n",
       "      <th>s3</th>\n",
       "      <th>s4</th>\n",
       "      <th>s5</th>\n",
       "      <th>...</th>\n",
       "      <th>s12</th>\n",
       "      <th>s13</th>\n",
       "      <th>s14</th>\n",
       "      <th>s15</th>\n",
       "      <th>s16</th>\n",
       "      <th>s17</th>\n",
       "      <th>s18</th>\n",
       "      <th>s19</th>\n",
       "      <th>s20</th>\n",
       "      <th>s21</th>\n",
       "    </tr>\n",
       "  </thead>\n",
       "  <tbody>\n",
       "    <tr>\n",
       "      <th>count</th>\n",
       "      <td>20631.000000</td>\n",
       "      <td>20631.000000</td>\n",
       "      <td>20631.000000</td>\n",
       "      <td>20631.000000</td>\n",
       "      <td>20631.0</td>\n",
       "      <td>2.063100e+04</td>\n",
       "      <td>20631.000000</td>\n",
       "      <td>20631.000000</td>\n",
       "      <td>20631.000000</td>\n",
       "      <td>2.063100e+04</td>\n",
       "      <td>...</td>\n",
       "      <td>20631.000000</td>\n",
       "      <td>20631.000000</td>\n",
       "      <td>20631.000000</td>\n",
       "      <td>20631.000000</td>\n",
       "      <td>2.063100e+04</td>\n",
       "      <td>20631.000000</td>\n",
       "      <td>20631.0</td>\n",
       "      <td>20631.0</td>\n",
       "      <td>20631.000000</td>\n",
       "      <td>20631.000000</td>\n",
       "    </tr>\n",
       "    <tr>\n",
       "      <th>mean</th>\n",
       "      <td>51.506568</td>\n",
       "      <td>108.807862</td>\n",
       "      <td>-0.000009</td>\n",
       "      <td>0.000002</td>\n",
       "      <td>100.0</td>\n",
       "      <td>5.186700e+02</td>\n",
       "      <td>642.680934</td>\n",
       "      <td>1590.523119</td>\n",
       "      <td>1408.933782</td>\n",
       "      <td>1.462000e+01</td>\n",
       "      <td>...</td>\n",
       "      <td>521.413470</td>\n",
       "      <td>2388.096152</td>\n",
       "      <td>8143.752722</td>\n",
       "      <td>8.442146</td>\n",
       "      <td>3.000000e-02</td>\n",
       "      <td>393.210654</td>\n",
       "      <td>2388.0</td>\n",
       "      <td>100.0</td>\n",
       "      <td>38.816271</td>\n",
       "      <td>23.289705</td>\n",
       "    </tr>\n",
       "    <tr>\n",
       "      <th>std</th>\n",
       "      <td>29.227633</td>\n",
       "      <td>68.880990</td>\n",
       "      <td>0.002187</td>\n",
       "      <td>0.000293</td>\n",
       "      <td>0.0</td>\n",
       "      <td>6.537152e-11</td>\n",
       "      <td>0.500053</td>\n",
       "      <td>6.131150</td>\n",
       "      <td>9.000605</td>\n",
       "      <td>3.394700e-12</td>\n",
       "      <td>...</td>\n",
       "      <td>0.737553</td>\n",
       "      <td>0.071919</td>\n",
       "      <td>19.076176</td>\n",
       "      <td>0.037505</td>\n",
       "      <td>1.556432e-14</td>\n",
       "      <td>1.548763</td>\n",
       "      <td>0.0</td>\n",
       "      <td>0.0</td>\n",
       "      <td>0.180746</td>\n",
       "      <td>0.108251</td>\n",
       "    </tr>\n",
       "    <tr>\n",
       "      <th>min</th>\n",
       "      <td>1.000000</td>\n",
       "      <td>1.000000</td>\n",
       "      <td>-0.008700</td>\n",
       "      <td>-0.000600</td>\n",
       "      <td>100.0</td>\n",
       "      <td>5.186700e+02</td>\n",
       "      <td>641.210000</td>\n",
       "      <td>1571.040000</td>\n",
       "      <td>1382.250000</td>\n",
       "      <td>1.462000e+01</td>\n",
       "      <td>...</td>\n",
       "      <td>518.690000</td>\n",
       "      <td>2387.880000</td>\n",
       "      <td>8099.940000</td>\n",
       "      <td>8.324900</td>\n",
       "      <td>3.000000e-02</td>\n",
       "      <td>388.000000</td>\n",
       "      <td>2388.0</td>\n",
       "      <td>100.0</td>\n",
       "      <td>38.140000</td>\n",
       "      <td>22.894200</td>\n",
       "    </tr>\n",
       "    <tr>\n",
       "      <th>25%</th>\n",
       "      <td>26.000000</td>\n",
       "      <td>52.000000</td>\n",
       "      <td>-0.001500</td>\n",
       "      <td>-0.000200</td>\n",
       "      <td>100.0</td>\n",
       "      <td>5.186700e+02</td>\n",
       "      <td>642.325000</td>\n",
       "      <td>1586.260000</td>\n",
       "      <td>1402.360000</td>\n",
       "      <td>1.462000e+01</td>\n",
       "      <td>...</td>\n",
       "      <td>520.960000</td>\n",
       "      <td>2388.040000</td>\n",
       "      <td>8133.245000</td>\n",
       "      <td>8.414900</td>\n",
       "      <td>3.000000e-02</td>\n",
       "      <td>392.000000</td>\n",
       "      <td>2388.0</td>\n",
       "      <td>100.0</td>\n",
       "      <td>38.700000</td>\n",
       "      <td>23.221800</td>\n",
       "    </tr>\n",
       "    <tr>\n",
       "      <th>50%</th>\n",
       "      <td>52.000000</td>\n",
       "      <td>104.000000</td>\n",
       "      <td>0.000000</td>\n",
       "      <td>0.000000</td>\n",
       "      <td>100.0</td>\n",
       "      <td>5.186700e+02</td>\n",
       "      <td>642.640000</td>\n",
       "      <td>1590.100000</td>\n",
       "      <td>1408.040000</td>\n",
       "      <td>1.462000e+01</td>\n",
       "      <td>...</td>\n",
       "      <td>521.480000</td>\n",
       "      <td>2388.090000</td>\n",
       "      <td>8140.540000</td>\n",
       "      <td>8.438900</td>\n",
       "      <td>3.000000e-02</td>\n",
       "      <td>393.000000</td>\n",
       "      <td>2388.0</td>\n",
       "      <td>100.0</td>\n",
       "      <td>38.830000</td>\n",
       "      <td>23.297900</td>\n",
       "    </tr>\n",
       "    <tr>\n",
       "      <th>75%</th>\n",
       "      <td>77.000000</td>\n",
       "      <td>156.000000</td>\n",
       "      <td>0.001500</td>\n",
       "      <td>0.000300</td>\n",
       "      <td>100.0</td>\n",
       "      <td>5.186700e+02</td>\n",
       "      <td>643.000000</td>\n",
       "      <td>1594.380000</td>\n",
       "      <td>1414.555000</td>\n",
       "      <td>1.462000e+01</td>\n",
       "      <td>...</td>\n",
       "      <td>521.950000</td>\n",
       "      <td>2388.140000</td>\n",
       "      <td>8148.310000</td>\n",
       "      <td>8.465600</td>\n",
       "      <td>3.000000e-02</td>\n",
       "      <td>394.000000</td>\n",
       "      <td>2388.0</td>\n",
       "      <td>100.0</td>\n",
       "      <td>38.950000</td>\n",
       "      <td>23.366800</td>\n",
       "    </tr>\n",
       "    <tr>\n",
       "      <th>max</th>\n",
       "      <td>100.000000</td>\n",
       "      <td>362.000000</td>\n",
       "      <td>0.008700</td>\n",
       "      <td>0.000600</td>\n",
       "      <td>100.0</td>\n",
       "      <td>5.186700e+02</td>\n",
       "      <td>644.530000</td>\n",
       "      <td>1616.910000</td>\n",
       "      <td>1441.490000</td>\n",
       "      <td>1.462000e+01</td>\n",
       "      <td>...</td>\n",
       "      <td>523.380000</td>\n",
       "      <td>2388.560000</td>\n",
       "      <td>8293.720000</td>\n",
       "      <td>8.584800</td>\n",
       "      <td>3.000000e-02</td>\n",
       "      <td>400.000000</td>\n",
       "      <td>2388.0</td>\n",
       "      <td>100.0</td>\n",
       "      <td>39.430000</td>\n",
       "      <td>23.618400</td>\n",
       "    </tr>\n",
       "  </tbody>\n",
       "</table>\n",
       "<p>8 rows × 26 columns</p>\n",
       "</div>"
      ],
      "text/plain": [
       "                 id         cycle      setting1      setting2  setting3  \\\n",
       "count  20631.000000  20631.000000  20631.000000  20631.000000   20631.0   \n",
       "mean      51.506568    108.807862     -0.000009      0.000002     100.0   \n",
       "std       29.227633     68.880990      0.002187      0.000293       0.0   \n",
       "min        1.000000      1.000000     -0.008700     -0.000600     100.0   \n",
       "25%       26.000000     52.000000     -0.001500     -0.000200     100.0   \n",
       "50%       52.000000    104.000000      0.000000      0.000000     100.0   \n",
       "75%       77.000000    156.000000      0.001500      0.000300     100.0   \n",
       "max      100.000000    362.000000      0.008700      0.000600     100.0   \n",
       "\n",
       "                 s1            s2            s3            s4            s5  \\\n",
       "count  2.063100e+04  20631.000000  20631.000000  20631.000000  2.063100e+04   \n",
       "mean   5.186700e+02    642.680934   1590.523119   1408.933782  1.462000e+01   \n",
       "std    6.537152e-11      0.500053      6.131150      9.000605  3.394700e-12   \n",
       "min    5.186700e+02    641.210000   1571.040000   1382.250000  1.462000e+01   \n",
       "25%    5.186700e+02    642.325000   1586.260000   1402.360000  1.462000e+01   \n",
       "50%    5.186700e+02    642.640000   1590.100000   1408.040000  1.462000e+01   \n",
       "75%    5.186700e+02    643.000000   1594.380000   1414.555000  1.462000e+01   \n",
       "max    5.186700e+02    644.530000   1616.910000   1441.490000  1.462000e+01   \n",
       "\n",
       "       ...           s12           s13           s14           s15  \\\n",
       "count  ...  20631.000000  20631.000000  20631.000000  20631.000000   \n",
       "mean   ...    521.413470   2388.096152   8143.752722      8.442146   \n",
       "std    ...      0.737553      0.071919     19.076176      0.037505   \n",
       "min    ...    518.690000   2387.880000   8099.940000      8.324900   \n",
       "25%    ...    520.960000   2388.040000   8133.245000      8.414900   \n",
       "50%    ...    521.480000   2388.090000   8140.540000      8.438900   \n",
       "75%    ...    521.950000   2388.140000   8148.310000      8.465600   \n",
       "max    ...    523.380000   2388.560000   8293.720000      8.584800   \n",
       "\n",
       "                s16           s17      s18      s19           s20  \\\n",
       "count  2.063100e+04  20631.000000  20631.0  20631.0  20631.000000   \n",
       "mean   3.000000e-02    393.210654   2388.0    100.0     38.816271   \n",
       "std    1.556432e-14      1.548763      0.0      0.0      0.180746   \n",
       "min    3.000000e-02    388.000000   2388.0    100.0     38.140000   \n",
       "25%    3.000000e-02    392.000000   2388.0    100.0     38.700000   \n",
       "50%    3.000000e-02    393.000000   2388.0    100.0     38.830000   \n",
       "75%    3.000000e-02    394.000000   2388.0    100.0     38.950000   \n",
       "max    3.000000e-02    400.000000   2388.0    100.0     39.430000   \n",
       "\n",
       "                s21  \n",
       "count  20631.000000  \n",
       "mean      23.289705  \n",
       "std        0.108251  \n",
       "min       22.894200  \n",
       "25%       23.221800  \n",
       "50%       23.297900  \n",
       "75%       23.366800  \n",
       "max       23.618400  \n",
       "\n",
       "[8 rows x 26 columns]"
      ]
     },
     "execution_count": 43,
     "metadata": {},
     "output_type": "execute_result"
    }
   ],
   "source": [
    "df.describe()"
   ]
  },
  {
   "cell_type": "markdown",
   "id": "df833cff",
   "metadata": {},
   "source": [
    "# 3. Data Preparation"
   ]
  },
  {
   "cell_type": "markdown",
   "id": "2960e9e7",
   "metadata": {},
   "source": [
    "## 3.A. TTF Calculation\n",
    "Time to failure (TTF) is an important **measure of the reliability** of a system or component. It is the **amount of time that a system or component is expected to function before it fails**. In many industries, such as aerospace, automotive, and manufacturing, TTF is a critical metric for determining the longevity and reliability of a system or component.\n",
    "On our case, the TTF is the **number of cycles** until failure of the aircraft engine."
   ]
  },
  {
   "cell_type": "code",
   "execution_count": 44,
   "id": "b363f041",
   "metadata": {},
   "outputs": [
    {
     "name": "stdout",
     "output_type": "stream",
     "text": [
      "   id  cycle  setting1  setting2  setting3      s1      s2       s3       s4  \\\n",
      "0   1      1   -0.0007   -0.0004     100.0  518.67  641.82  1589.70  1400.60   \n",
      "1   1      2    0.0019   -0.0003     100.0  518.67  642.15  1591.82  1403.14   \n",
      "2   1      3   -0.0043    0.0003     100.0  518.67  642.35  1587.99  1404.20   \n",
      "3   1      4    0.0007    0.0000     100.0  518.67  642.35  1582.79  1401.87   \n",
      "4   1      5   -0.0019   -0.0002     100.0  518.67  642.37  1582.85  1406.22   \n",
      "\n",
      "      s5  ...      s13      s14     s15   s16  s17   s18    s19    s20  \\\n",
      "0  14.62  ...  2388.02  8138.62  8.4195  0.03  392  2388  100.0  39.06   \n",
      "1  14.62  ...  2388.07  8131.49  8.4318  0.03  392  2388  100.0  39.00   \n",
      "2  14.62  ...  2388.03  8133.23  8.4178  0.03  390  2388  100.0  38.95   \n",
      "3  14.62  ...  2388.08  8133.83  8.3682  0.03  392  2388  100.0  38.88   \n",
      "4  14.62  ...  2388.04  8133.80  8.4294  0.03  393  2388  100.0  38.90   \n",
      "\n",
      "       s21  ttf  \n",
      "0  23.4190  191  \n",
      "1  23.4236  190  \n",
      "2  23.3442  189  \n",
      "3  23.3739  188  \n",
      "4  23.4044  187  \n",
      "\n",
      "[5 rows x 27 columns]\n"
     ]
    }
   ],
   "source": [
    "df[\"ttf\"] = df.groupby(\"id\")[\"cycle\"].transform(\"max\")- df[\"cycle\"]\n",
    "print(df.head(5))"
   ]
  },
  {
   "cell_type": "code",
   "execution_count": 45,
   "id": "3db4706c",
   "metadata": {},
   "outputs": [
    {
     "data": {
      "text/plain": [
       "<AxesSubplot:ylabel='Frequency'>"
      ]
     },
     "execution_count": 45,
     "metadata": {},
     "output_type": "execute_result"
    },
    {
     "data": {
      "image/png": "[encoded data removed]",
      "text/plain": [
       "<Figure size 640x480 with 1 Axes>"
      ]
     },
     "metadata": {},
     "output_type": "display_data"
    }
   ],
   "source": [
    "maxttfbyid = df.groupby(\"id\")[\"ttf\"].max()\n",
    "maxttfbyid.plot(kind='hist', edgecolor='black')"
   ]
  },
  {
   "cell_type": "code",
   "execution_count": 50,
   "id": "7b194e65",
   "metadata": {},
   "outputs": [
    {
     "data": {
      "application/vnd.jupyter.widget-view+json": {
       "model_id": "b09cdf3c91d64c86b21aefb9176877d7",
       "version_major": 2,
       "version_minor": 0
      },
      "text/plain": [
       "Dropdown(index=7, options=('id', 'cycle', 'setting1', 'setting2', 'setting3', 's1', 's2', 's3', 's4', 's5', 's…"
      ]
     },
     "metadata": {},
     "output_type": "display_data"
    },
    {
     "data": {
      "image/png": "[encoded data removed]",
      "text/plain": [
       "<Figure size 640x480 with 1 Axes>"
      ]
     },
     "metadata": {},
     "output_type": "display_data"
    }
   ],
   "source": [
    "a = df.loc[df['ttf'] == 0]\n",
    "print(a)\n",
    "\n",
    "drop_down_distribuition = Dropdown(options = a.columns)\n",
    "selected_distribuition = drop_down_distribuition.value\n",
    "\n",
    "def dropdown_distribuition_handler(change):\n",
    "    selected_distribuition = change.new \n",
    "    clear_output(wait=True)\n",
    "    a[selected_distribuition].plot(kind='hist', edgecolor='black')\n",
    "    display(drop_down_distribuition)\n",
    "    \n",
    "drop_down_distribuition.observe(dropdown_distribuition_handler, names='value')\n",
    "display(drop_down_distribuition)\n",
    "df[selected_distribuition].plot(kind='hist', edgecolor='black')"
   ]
  },
  {
   "cell_type": "markdown",
   "id": "56368203",
   "metadata": {},
   "source": [
    "## 3.B. ID Column Deletion\n",
    "IDs should be removed from the dataset because they are often unique to individual instances and do not provide any **useful** information for the model. Additionally, using IDs as features in a model can introduce **bias**, since they can allow the model to learn to associate certain IDs with specific outcomes, which may not generalize to new data. Removing IDs from the dataset can help prevent these issues and **improve the performance of the model**."
   ]
  },
  {
   "cell_type": "code",
   "execution_count": 8,
   "id": "ad921c13",
   "metadata": {},
   "outputs": [
    {
     "name": "stderr",
     "output_type": "stream",
     "text": [
      "/var/folders/s2/457q439n0f54wwzhgtx6nzlw0000gn/T/ipykernel_31820/593033942.py:1: FutureWarning: In a future version of pandas all arguments of DataFrame.drop except for the argument 'labels' will be keyword-only.\n",
      "  df = df.drop(\"id\", 1)\n"
     ]
    },
    {
     "data": {
      "text/html": [
       "<div>\n",
       "<style scoped>\n",
       "    .dataframe tbody tr th:only-of-type {\n",
       "        vertical-align: middle;\n",
       "    }\n",
       "\n",
       "    .dataframe tbody tr th {\n",
       "        vertical-align: top;\n",
       "    }\n",
       "\n",
       "    .dataframe thead th {\n",
       "        text-align: right;\n",
       "    }\n",
       "</style>\n",
       "<table border=\"1\" class=\"dataframe\">\n",
       "  <thead>\n",
       "    <tr style=\"text-align: right;\">\n",
       "      <th></th>\n",
       "      <th>cycle</th>\n",
       "      <th>setting1</th>\n",
       "      <th>setting2</th>\n",
       "      <th>setting3</th>\n",
       "      <th>s1</th>\n",
       "      <th>s2</th>\n",
       "      <th>s3</th>\n",
       "      <th>s4</th>\n",
       "      <th>s5</th>\n",
       "      <th>s6</th>\n",
       "      <th>...</th>\n",
       "      <th>s13</th>\n",
       "      <th>s14</th>\n",
       "      <th>s15</th>\n",
       "      <th>s16</th>\n",
       "      <th>s17</th>\n",
       "      <th>s18</th>\n",
       "      <th>s19</th>\n",
       "      <th>s20</th>\n",
       "      <th>s21</th>\n",
       "      <th>ttf</th>\n",
       "    </tr>\n",
       "  </thead>\n",
       "  <tbody>\n",
       "    <tr>\n",
       "      <th>0</th>\n",
       "      <td>1</td>\n",
       "      <td>-0.0007</td>\n",
       "      <td>-0.0004</td>\n",
       "      <td>100.0</td>\n",
       "      <td>518.67</td>\n",
       "      <td>641.82</td>\n",
       "      <td>1589.70</td>\n",
       "      <td>1400.60</td>\n",
       "      <td>14.62</td>\n",
       "      <td>21.61</td>\n",
       "      <td>...</td>\n",
       "      <td>2388.02</td>\n",
       "      <td>8138.62</td>\n",
       "      <td>8.4195</td>\n",
       "      <td>0.03</td>\n",
       "      <td>392</td>\n",
       "      <td>2388</td>\n",
       "      <td>100.0</td>\n",
       "      <td>39.06</td>\n",
       "      <td>23.4190</td>\n",
       "      <td>191</td>\n",
       "    </tr>\n",
       "    <tr>\n",
       "      <th>1</th>\n",
       "      <td>2</td>\n",
       "      <td>0.0019</td>\n",
       "      <td>-0.0003</td>\n",
       "      <td>100.0</td>\n",
       "      <td>518.67</td>\n",
       "      <td>642.15</td>\n",
       "      <td>1591.82</td>\n",
       "      <td>1403.14</td>\n",
       "      <td>14.62</td>\n",
       "      <td>21.61</td>\n",
       "      <td>...</td>\n",
       "      <td>2388.07</td>\n",
       "      <td>8131.49</td>\n",
       "      <td>8.4318</td>\n",
       "      <td>0.03</td>\n",
       "      <td>392</td>\n",
       "      <td>2388</td>\n",
       "      <td>100.0</td>\n",
       "      <td>39.00</td>\n",
       "      <td>23.4236</td>\n",
       "      <td>190</td>\n",
       "    </tr>\n",
       "    <tr>\n",
       "      <th>2</th>\n",
       "      <td>3</td>\n",
       "      <td>-0.0043</td>\n",
       "      <td>0.0003</td>\n",
       "      <td>100.0</td>\n",
       "      <td>518.67</td>\n",
       "      <td>642.35</td>\n",
       "      <td>1587.99</td>\n",
       "      <td>1404.20</td>\n",
       "      <td>14.62</td>\n",
       "      <td>21.61</td>\n",
       "      <td>...</td>\n",
       "      <td>2388.03</td>\n",
       "      <td>8133.23</td>\n",
       "      <td>8.4178</td>\n",
       "      <td>0.03</td>\n",
       "      <td>390</td>\n",
       "      <td>2388</td>\n",
       "      <td>100.0</td>\n",
       "      <td>38.95</td>\n",
       "      <td>23.3442</td>\n",
       "      <td>189</td>\n",
       "    </tr>\n",
       "    <tr>\n",
       "      <th>3</th>\n",
       "      <td>4</td>\n",
       "      <td>0.0007</td>\n",
       "      <td>0.0000</td>\n",
       "      <td>100.0</td>\n",
       "      <td>518.67</td>\n",
       "      <td>642.35</td>\n",
       "      <td>1582.79</td>\n",
       "      <td>1401.87</td>\n",
       "      <td>14.62</td>\n",
       "      <td>21.61</td>\n",
       "      <td>...</td>\n",
       "      <td>2388.08</td>\n",
       "      <td>8133.83</td>\n",
       "      <td>8.3682</td>\n",
       "      <td>0.03</td>\n",
       "      <td>392</td>\n",
       "      <td>2388</td>\n",
       "      <td>100.0</td>\n",
       "      <td>38.88</td>\n",
       "      <td>23.3739</td>\n",
       "      <td>188</td>\n",
       "    </tr>\n",
       "    <tr>\n",
       "      <th>4</th>\n",
       "      <td>5</td>\n",
       "      <td>-0.0019</td>\n",
       "      <td>-0.0002</td>\n",
       "      <td>100.0</td>\n",
       "      <td>518.67</td>\n",
       "      <td>642.37</td>\n",
       "      <td>1582.85</td>\n",
       "      <td>1406.22</td>\n",
       "      <td>14.62</td>\n",
       "      <td>21.61</td>\n",
       "      <td>...</td>\n",
       "      <td>2388.04</td>\n",
       "      <td>8133.80</td>\n",
       "      <td>8.4294</td>\n",
       "      <td>0.03</td>\n",
       "      <td>393</td>\n",
       "      <td>2388</td>\n",
       "      <td>100.0</td>\n",
       "      <td>38.90</td>\n",
       "      <td>23.4044</td>\n",
       "      <td>187</td>\n",
       "    </tr>\n",
       "  </tbody>\n",
       "</table>\n",
       "<p>5 rows × 26 columns</p>\n",
       "</div>"
      ],
      "text/plain": [
       "   cycle  setting1  setting2  setting3      s1      s2       s3       s4  \\\n",
       "0      1   -0.0007   -0.0004     100.0  518.67  641.82  1589.70  1400.60   \n",
       "1      2    0.0019   -0.0003     100.0  518.67  642.15  1591.82  1403.14   \n",
       "2      3   -0.0043    0.0003     100.0  518.67  642.35  1587.99  1404.20   \n",
       "3      4    0.0007    0.0000     100.0  518.67  642.35  1582.79  1401.87   \n",
       "4      5   -0.0019   -0.0002     100.0  518.67  642.37  1582.85  1406.22   \n",
       "\n",
       "      s5     s6  ...      s13      s14     s15   s16  s17   s18    s19    s20  \\\n",
       "0  14.62  21.61  ...  2388.02  8138.62  8.4195  0.03  392  2388  100.0  39.06   \n",
       "1  14.62  21.61  ...  2388.07  8131.49  8.4318  0.03  392  2388  100.0  39.00   \n",
       "2  14.62  21.61  ...  2388.03  8133.23  8.4178  0.03  390  2388  100.0  38.95   \n",
       "3  14.62  21.61  ...  2388.08  8133.83  8.3682  0.03  392  2388  100.0  38.88   \n",
       "4  14.62  21.61  ...  2388.04  8133.80  8.4294  0.03  393  2388  100.0  38.90   \n",
       "\n",
       "       s21  ttf  \n",
       "0  23.4190  191  \n",
       "1  23.4236  190  \n",
       "2  23.3442  189  \n",
       "3  23.3739  188  \n",
       "4  23.4044  187  \n",
       "\n",
       "[5 rows x 26 columns]"
      ]
     },
     "execution_count": 8,
     "metadata": {},
     "output_type": "execute_result"
    }
   ],
   "source": [
    "df = df.drop(\"id\", 1)\n",
    "df.head(5)"
   ]
  },
  {
   "cell_type": "markdown",
   "id": "920c4278",
   "metadata": {},
   "source": [
    "# 3.C. Data Shuffling\n",
    "Data shuffling is the process of randomly rearranging the order of the instances in the dataset. This is important because it can help prevent the model from **overfitting to the data** by introducing randomness and reducing the chance that the model will learn to rely on any particular pattern in the data. Data shuffling can also **improve the performance of the model** by ensuring that the training data is distributed evenly across all the features, which can help the model learn to make more accurate predictions."
   ]
  },
  {
   "cell_type": "code",
   "execution_count": 9,
   "id": "e7954f15",
   "metadata": {},
   "outputs": [
    {
     "name": "stdout",
     "output_type": "stream",
     "text": [
      "       cycle  setting1  setting2  setting3      s1      s2       s3       s4  \\\n",
      "16476     99    0.0046   -0.0001     100.0  518.67  642.36  1586.44  1400.16   \n",
      "18555     41    0.0029   -0.0001     100.0  518.67  642.18  1579.04  1400.26   \n",
      "18290     65    0.0043    0.0000     100.0  518.67  642.49  1591.68  1398.09   \n",
      "9852     142   -0.0046   -0.0001     100.0  518.67  643.51  1592.92  1417.52   \n",
      "12838     75    0.0004   -0.0001     100.0  518.67  642.38  1579.38  1399.53   \n",
      "\n",
      "          s5     s6  ...      s13      s14     s15   s16  s17   s18    s19  \\\n",
      "16476  14.62  21.61  ...  2388.01  8150.36  8.4079  0.03  391  2388  100.0   \n",
      "18555  14.62  21.61  ...  2388.06  8132.62  8.4038  0.03  393  2388  100.0   \n",
      "18290  14.62  21.61  ...  2388.05  8133.78  8.4029  0.03  394  2388  100.0   \n",
      "9852   14.62  21.61  ...  2388.10  8155.69  8.5048  0.03  394  2388  100.0   \n",
      "12838  14.62  21.61  ...  2388.00  8141.53  8.4402  0.03  393  2388  100.0   \n",
      "\n",
      "         s20      s21  ttf  \n",
      "16476  39.00  23.4074  115  \n",
      "18555  38.96  23.3017  300  \n",
      "18290  38.98  23.2972   89  \n",
      "9852   38.70  23.2388   56  \n",
      "12838  39.07  23.3104   78  \n",
      "\n",
      "[5 rows x 26 columns]\n"
     ]
    }
   ],
   "source": [
    "df = df.sample(frac=1)\n",
    "print(df.head(5))"
   ]
  },
  {
   "cell_type": "markdown",
   "id": "77603a87",
   "metadata": {},
   "source": [
    "# 4. Exporting Data"
   ]
  },
  {
   "cell_type": "code",
   "execution_count": 10,
   "id": "6984b1d6",
   "metadata": {},
   "outputs": [],
   "source": [
    "df.to_csv('../Data/dataset_clean.csv', index=False)"
   ]
  }
 ],
 "metadata": {
  "kernelspec": {
   "display_name": "Python 3 (ipykernel)",
   "language": "python",
   "name": "python3"
  },
  "language_info": {
   "codemirror_mode": {
    "name": "ipython",
    "version": 3
   },
   "file_extension": ".py",
   "mimetype": "text/x-python",
   "name": "python",
   "nbconvert_exporter": "python",
   "pygments_lexer": "ipython3",
   "version": "3.9.13"
  }
 },
 "nbformat": 4,
 "nbformat_minor": 5
}
