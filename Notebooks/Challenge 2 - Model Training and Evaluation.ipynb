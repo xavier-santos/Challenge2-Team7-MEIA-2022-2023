{
 "cells": [
  {
   "cell_type": "markdown",
   "id": "c683436d",
   "metadata": {},
   "source": [
    "lazypredict https://pypi.org/project/lazypredict/"
   ]
  },
  {
   "cell_type": "code",
   "execution_count": 1,
   "id": "c5e1c9ad",
   "metadata": {},
   "outputs": [],
   "source": [
    "from sklearn.linear_model import LogisticRegression\n",
    "from sklearn.metrics import classification_report\n",
    "import pandas as pd\n",
    "import ipywidgets as widgets\n",
    "from ipywidgets import *\n",
    "from IPython.display import clear_output\n",
    "from functools import partial\n",
    "import matplotlib.pyplot as plt"
   ]
  },
  {
   "cell_type": "code",
   "execution_count": 2,
   "id": "544a4140",
   "metadata": {},
   "outputs": [],
   "source": [
    "train = pd.read_csv('../Data/train.csv')\n",
    "test = pd.read_csv('../Data/test.csv')"
   ]
  },
  {
   "cell_type": "code",
   "execution_count": 3,
   "id": "a68754c2",
   "metadata": {},
   "outputs": [],
   "source": [
    "from sklearn import *\n",
    "import sklearn as sklearn\n",
    "chosen_regressors = [('ARDRegression', sklearn.linear_model._bayes.ARDRegression),\n",
    " ('AdaBoostRegressor', sklearn.ensemble._weight_boosting.AdaBoostRegressor),\n",
    " ('BaggingRegressor', sklearn.ensemble._bagging.BaggingRegressor),\n",
    " ('BayesianRidge', sklearn.linear_model._bayes.BayesianRidge),\n",
    " ('CCA', sklearn.cross_decomposition._pls.CCA),\n",
    " ('DecisionTreeRegressor', sklearn.tree._classes.DecisionTreeRegressor),\n",
    " ('DummyRegressor', sklearn.dummy.DummyRegressor),\n",
    " ('ElasticNet', sklearn.linear_model._coordinate_descent.ElasticNet),\n",
    " ('ElasticNetCV', sklearn.linear_model._coordinate_descent.ElasticNetCV),\n",
    " ('ExtraTreeRegressor', sklearn.tree._classes.ExtraTreeRegressor),\n",
    " ('ExtraTreesRegressor', sklearn.ensemble._forest.ExtraTreesRegressor),\n",
    " ('GradientBoostingRegressor', sklearn.ensemble._gb.GradientBoostingRegressor),\n",
    " ('HistGradientBoostingRegressor',\n",
    "  sklearn.ensemble._hist_gradient_boosting.gradient_boosting.HistGradientBoostingRegressor),\n",
    " ('HuberRegressor', sklearn.linear_model._huber.HuberRegressor),\n",
    " ('KNeighborsRegressor', sklearn.neighbors._regression.KNeighborsRegressor),\n",
    " ('Lars', sklearn.linear_model._least_angle.Lars),\n",
    " ('LarsCV', sklearn.linear_model._least_angle.LarsCV),\n",
    " ('Lasso', sklearn.linear_model._coordinate_descent.Lasso),\n",
    " ('LassoCV', sklearn.linear_model._coordinate_descent.LassoCV),\n",
    " ('LassoLars', sklearn.linear_model._least_angle.LassoLars),\n",
    " ('LassoLarsCV', sklearn.linear_model._least_angle.LassoLarsCV),\n",
    " ('LassoLarsIC', sklearn.linear_model._least_angle.LassoLarsIC),\n",
    " ('LinearRegression', sklearn.linear_model._base.LinearRegression),\n",
    " ('LinearSVR', sklearn.svm._classes.LinearSVR),\n",
    " ('MLPRegressor', sklearn.neural_network._multilayer_perceptron.MLPRegressor),\n",
    " ('OrthogonalMatchingPursuit',\n",
    "  sklearn.linear_model._omp.OrthogonalMatchingPursuit),\n",
    " ('OrthogonalMatchingPursuitCV',\n",
    "  sklearn.linear_model._omp.OrthogonalMatchingPursuitCV),\n",
    " ('PassiveAggressiveRegressor',\n",
    "  sklearn.linear_model._passive_aggressive.PassiveAggressiveRegressor),\n",
    " ('PoissonRegressor', sklearn.linear_model._glm.glm.PoissonRegressor),\n",
    " ('RANSACRegressor', sklearn.linear_model._ransac.RANSACRegressor),\n",
    " ('RandomForestRegressor', sklearn.ensemble._forest.RandomForestRegressor),\n",
    " ('Ridge', sklearn.linear_model._ridge.Ridge),\n",
    " ('RidgeCV', sklearn.linear_model._ridge.RidgeCV),\n",
    " ('SGDRegressor', sklearn.linear_model._stochastic_gradient.SGDRegressor),\n",
    " ('SVR', sklearn.svm._classes.SVR),\n",
    " ('TheilSenRegressor', sklearn.linear_model._theil_sen.TheilSenRegressor),\n",
    " ('TransformedTargetRegressor',\n",
    "  sklearn.compose._target.TransformedTargetRegressor),\n",
    " ('TweedieRegressor', sklearn.linear_model._glm.glm.TweedieRegressor)]"
   ]
  },
  {
   "cell_type": "code",
   "execution_count": 4,
   "id": "7ee7b785",
   "metadata": {},
   "outputs": [],
   "source": [
    "X_train = train.drop('ttf', axis=1)\n",
    "y_train = train['ttf']\n",
    "X_test = test.drop('ttf', axis=1)\n",
    "y_test = test['ttf']"
   ]
  },
  {
   "cell_type": "code",
   "execution_count": 5,
   "id": "f3eb07ec",
   "metadata": {},
   "outputs": [],
   "source": [
    "import numpy as np\n",
    "from sklearn.linear_model import LinearRegression\n",
    "reg = LinearRegression().fit(X_train, y_train)"
   ]
  },
  {
   "cell_type": "code",
   "execution_count": 6,
   "id": "f3e90369",
   "metadata": {},
   "outputs": [
    {
     "data": {
      "text/plain": [
       "0.6590268440608174"
      ]
     },
     "execution_count": 6,
     "metadata": {},
     "output_type": "execute_result"
    }
   ],
   "source": [
    "reg.score(X_test, y_test)"
   ]
  },
  {
   "cell_type": "code",
   "execution_count": 7,
   "id": "32f9c70b",
   "metadata": {
    "scrolled": true
   },
   "outputs": [
    {
     "name": "stdout",
     "output_type": "stream",
     "text": [
      "'tuple' object has no attribute '__name__'\n",
      "Invalid Regressor(s)\n"
     ]
    },
    {
     "name": "stderr",
     "output_type": "stream",
     "text": [
      "100%|███████████████████████████████████████████| 38/38 [00:36<00:00,  1.05it/s]\n"
     ]
    },
    {
     "data": {
      "text/plain": [
       "(                               Adjusted R-Squared  R-Squared  RMSE  Time Taken\n",
       " Model                                                                         \n",
       " GradientBoostingRegressor                    0.73       0.73  0.10        3.74\n",
       " HistGradientBoostingRegressor                0.73       0.73  0.10        0.33\n",
       " ExtraTreesRegressor                          0.73       0.73  0.10        4.66\n",
       " RandomForestRegressor                        0.72       0.72  0.10       12.06\n",
       " MLPRegressor                                 0.71       0.71  0.10        0.81\n",
       " SVR                                          0.71       0.71  0.10        5.57\n",
       " BaggingRegressor                             0.70       0.70  0.10        1.24\n",
       " KNeighborsRegressor                          0.67       0.67  0.11        0.78\n",
       " LassoCV                                      0.66       0.66  0.11        0.12\n",
       " ElasticNetCV                                 0.66       0.66  0.11        0.12\n",
       " LinearRegression                             0.66       0.66  0.11        0.01\n",
       " LarsCV                                       0.66       0.66  0.11        0.05\n",
       " Lars                                         0.66       0.66  0.11        0.02\n",
       " TransformedTargetRegressor                   0.66       0.66  0.11        0.02\n",
       " LassoLarsIC                                  0.66       0.66  0.11        0.02\n",
       " LassoLarsCV                                  0.66       0.66  0.11        0.05\n",
       " Ridge                                        0.66       0.66  0.11        0.01\n",
       " RidgeCV                                      0.66       0.66  0.11        0.03\n",
       " BayesianRidge                                0.66       0.66  0.11        0.02\n",
       " SGDRegressor                                 0.66       0.66  0.11        0.02\n",
       " TheilSenRegressor                            0.65       0.65  0.11        3.53\n",
       " HuberRegressor                               0.65       0.65  0.11        0.09\n",
       " LinearSVR                                    0.65       0.65  0.11        1.15\n",
       " AdaBoostRegressor                            0.65       0.65  0.11        1.08\n",
       " OrthogonalMatchingPursuitCV                  0.65       0.65  0.11        0.03\n",
       " ARDRegression                                0.65       0.65  0.11        0.03\n",
       " TweedieRegressor                             0.62       0.63  0.12        0.02\n",
       " PoissonRegressor                             0.56       0.57  0.13        0.02\n",
       " OrthogonalMatchingPursuit                    0.55       0.55  0.13        0.02\n",
       " ExtraTreeRegressor                           0.43       0.43  0.14        0.07\n",
       " DecisionTreeRegressor                        0.42       0.42  0.15        0.22\n",
       " RANSACRegressor                              0.32       0.32  0.16        0.08\n",
       " Lasso                                       -0.00      -0.00  0.19        0.01\n",
       " ElasticNet                                  -0.00      -0.00  0.19        0.01\n",
       " DummyRegressor                              -0.00      -0.00  0.19        0.01\n",
       " LassoLars                                   -0.00      -0.00  0.19        0.02\n",
       " CCA                                         -0.42      -0.41  0.23        0.02\n",
       " PassiveAggressiveRegressor                  -0.54      -0.54  0.24        0.02,\n",
       "                                Adjusted R-Squared  R-Squared  RMSE  Time Taken\n",
       " Model                                                                         \n",
       " GradientBoostingRegressor                    0.73       0.73  0.10        3.74\n",
       " HistGradientBoostingRegressor                0.73       0.73  0.10        0.33\n",
       " ExtraTreesRegressor                          0.73       0.73  0.10        4.66\n",
       " RandomForestRegressor                        0.72       0.72  0.10       12.06\n",
       " MLPRegressor                                 0.71       0.71  0.10        0.81\n",
       " SVR                                          0.71       0.71  0.10        5.57\n",
       " BaggingRegressor                             0.70       0.70  0.10        1.24\n",
       " KNeighborsRegressor                          0.67       0.67  0.11        0.78\n",
       " LassoCV                                      0.66       0.66  0.11        0.12\n",
       " ElasticNetCV                                 0.66       0.66  0.11        0.12\n",
       " LinearRegression                             0.66       0.66  0.11        0.01\n",
       " LarsCV                                       0.66       0.66  0.11        0.05\n",
       " Lars                                         0.66       0.66  0.11        0.02\n",
       " TransformedTargetRegressor                   0.66       0.66  0.11        0.02\n",
       " LassoLarsIC                                  0.66       0.66  0.11        0.02\n",
       " LassoLarsCV                                  0.66       0.66  0.11        0.05\n",
       " Ridge                                        0.66       0.66  0.11        0.01\n",
       " RidgeCV                                      0.66       0.66  0.11        0.03\n",
       " BayesianRidge                                0.66       0.66  0.11        0.02\n",
       " SGDRegressor                                 0.66       0.66  0.11        0.02\n",
       " TheilSenRegressor                            0.65       0.65  0.11        3.53\n",
       " HuberRegressor                               0.65       0.65  0.11        0.09\n",
       " LinearSVR                                    0.65       0.65  0.11        1.15\n",
       " AdaBoostRegressor                            0.65       0.65  0.11        1.08\n",
       " OrthogonalMatchingPursuitCV                  0.65       0.65  0.11        0.03\n",
       " ARDRegression                                0.65       0.65  0.11        0.03\n",
       " TweedieRegressor                             0.62       0.63  0.12        0.02\n",
       " PoissonRegressor                             0.56       0.57  0.13        0.02\n",
       " OrthogonalMatchingPursuit                    0.55       0.55  0.13        0.02\n",
       " ExtraTreeRegressor                           0.43       0.43  0.14        0.07\n",
       " DecisionTreeRegressor                        0.42       0.42  0.15        0.22\n",
       " RANSACRegressor                              0.32       0.32  0.16        0.08\n",
       " Lasso                                       -0.00      -0.00  0.19        0.01\n",
       " ElasticNet                                  -0.00      -0.00  0.19        0.01\n",
       " DummyRegressor                              -0.00      -0.00  0.19        0.01\n",
       " LassoLars                                   -0.00      -0.00  0.19        0.02\n",
       " CCA                                         -0.42      -0.41  0.23        0.02\n",
       " PassiveAggressiveRegressor                  -0.54      -0.54  0.24        0.02)"
      ]
     },
     "execution_count": 7,
     "metadata": {},
     "output_type": "execute_result"
    }
   ],
   "source": [
    "import lazypredict\n",
    "from lazypredict.Supervised import LazyRegressor\n",
    "\n",
    "reg = LazyRegressor(verbose=0, ignore_warnings=False, custom_metric=None, regressors=chosen_regressors)\n",
    "models = reg.fit(X_train, X_test, y_train, y_test)\n",
    "\n",
    "models"
   ]
  },
  {
   "cell_type": "code",
   "execution_count": 8,
   "id": "1b3376b6",
   "metadata": {},
   "outputs": [
    {
     "data": {
      "text/plain": [
       "HistGradientBoostingRegressor()"
      ]
     },
     "execution_count": 8,
     "metadata": {},
     "output_type": "execute_result"
    }
   ],
   "source": [
    "from sklearn.ensemble import HistGradientBoostingRegressor\n",
    "est = HistGradientBoostingRegressor()\n",
    "est.fit(X_train, y_train)"
   ]
  },
  {
   "cell_type": "code",
   "execution_count": 9,
   "id": "860fc5df",
   "metadata": {},
   "outputs": [
    {
     "data": {
      "text/plain": [
       "0.7304863735171936"
      ]
     },
     "execution_count": 9,
     "metadata": {},
     "output_type": "execute_result"
    }
   ],
   "source": [
    "est.score(X_test, y_test)"
   ]
  },
  {
   "cell_type": "code",
   "execution_count": 10,
   "id": "ccd70ba6",
   "metadata": {},
   "outputs": [],
   "source": [
    "y = est.predict(X_test)"
   ]
  },
  {
   "cell_type": "code",
   "execution_count": 15,
   "id": "6ffd43f4",
   "metadata": {},
   "outputs": [
    {
     "data": {
      "image/png": "[encoded data removed]",
      "text/plain": [
       "<Figure size 640x480 with 1 Axes>"
      ]
     },
     "metadata": {},
     "output_type": "display_data"
    },
    {
     "data": {
      "application/vnd.jupyter.widget-view+json": {
       "model_id": "2f958a9a025d4701b1a49e264b897b82",
       "version_major": 2,
       "version_minor": 0
      },
      "text/plain": [
       "HBox(children=(Button(description='<<', style=ButtonStyle()), Button(description='>>', style=ButtonStyle())))"
      ]
     },
     "metadata": {},
     "output_type": "display_data"
    }
   ],
   "source": [
    "button_left = Button(description=\"<<\")\n",
    "button_right = Button(description=\">>\")\n",
    "df = pd.DataFrame(y)\n",
    "x_range = [25, 50]\n",
    "\n",
    "# plot lines\n",
    "plt.plot(y_test.index.values, y_test, label = \"line 1\", marker='o')\n",
    "plt.plot(df.index.values, df, label = \"line 2\", marker='o')\n",
    "plt.legend()\n",
    "plt.xlim(x_range)\n",
    "plt.show()\n",
    "\n",
    "def clicked(arg, value:int):\n",
    "    if(x_range[0] == 0 & value<0):\n",
    "        return\n",
    "    x_range[0] = x_range[0] + value\n",
    "    x_range[1] = x_range[1] + value\n",
    "    plt.plot(y_test.index.values, y_test, label = \"line 1\", marker='o')\n",
    "    plt.plot(df.index.values, df, label = \"line 2\", marker='o')\n",
    "    plt.legend()\n",
    "    plt.xlim(x_range)\n",
    "    clear_output(wait=True)\n",
    "    plt.show()\n",
    "    display(widgets.HBox((button_left, button_right)))\n",
    "\n",
    "button_left.on_click(partial(clicked, value=-25))\n",
    "button_right.on_click(partial(clicked, value=25))\n",
    "    \n",
    "display(widgets.HBox((button_left, button_right)))"
   ]
  }
 ],
 "metadata": {
  "kernelspec": {
   "display_name": "Python 3 (ipykernel)",
   "language": "python",
   "name": "python3"
  },
  "language_info": {
   "codemirror_mode": {
    "name": "ipython",
    "version": 3
   },
   "file_extension": ".py",
   "mimetype": "text/x-python",
   "name": "python",
   "nbconvert_exporter": "python",
   "pygments_lexer": "ipython3",
   "version": "3.9.13"
  }
 },
 "nbformat": 4,
 "nbformat_minor": 5
}
