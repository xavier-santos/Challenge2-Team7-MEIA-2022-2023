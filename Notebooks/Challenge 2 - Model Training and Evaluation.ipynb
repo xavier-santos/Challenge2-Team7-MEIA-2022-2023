{
 "cells": [
  {
   "cell_type": "markdown",
   "id": "c683436d",
   "metadata": {},
   "source": [
    "lazypredict https://pypi.org/project/lazypredict/"
   ]
  },
  {
   "cell_type": "code",
   "execution_count": 1,
   "id": "c5e1c9ad",
   "metadata": {},
   "outputs": [],
   "source": [
    "import lazypredict\n",
    "from lazypredict.Supervised import LazyRegressor\n",
    "import pandas as pd"
   ]
  },
  {
   "cell_type": "code",
   "execution_count": 2,
   "id": "544a4140",
   "metadata": {},
   "outputs": [],
   "source": [
    "train = pd.read_csv('../Data/train.csv')\n",
    "test = pd.read_csv('../Data/test.csv')"
   ]
  },
  {
   "cell_type": "code",
   "execution_count": 3,
   "id": "eaaf85a9",
   "metadata": {},
   "outputs": [],
   "source": [
    "X_train = train.drop('ttf', axis=1)\n",
    "y_train = train['ttf']\n",
    "X_test = test.drop('ttf', axis=1)\n",
    "y_test = test['ttf']"
   ]
  },
  {
   "cell_type": "code",
   "execution_count": null,
   "id": "b0469d44",
   "metadata": {},
   "outputs": [
    {
     "name": "stderr",
     "output_type": "stream",
     "text": [
      " 21%|█████████▍                                  | 9/42 [00:07<00:31,  1.04it/s]"
     ]
    },
    {
     "name": "stdout",
     "output_type": "stream",
     "text": [
      "GammaRegressor model failed to execute\n",
      "Some value(s) of y are out of the valid range for family GammaDistribution\n"
     ]
    },
    {
     "name": "stderr",
     "output_type": "stream",
     "text": [
      " 74%|███████████████████████████████▋           | 31/42 [02:12<00:35,  3.21s/it]"
     ]
    }
   ],
   "source": [
    "reg = LazyRegressor(verbose=0,ignore_warnings=False, custom_metric=None )\n",
    "models,predictions = reg.fit(X_train, X_test, y_train, y_test)\n",
    "\n",
    "print(models)"
   ]
  }
 ],
 "metadata": {
  "kernelspec": {
   "display_name": "Python 3 (ipykernel)",
   "language": "python",
   "name": "python3"
  },
  "language_info": {
   "codemirror_mode": {
    "name": "ipython",
    "version": 3
   },
   "file_extension": ".py",
   "mimetype": "text/x-python",
   "name": "python",
   "nbconvert_exporter": "python",
   "pygments_lexer": "ipython3",
   "version": "3.9.13"
  }
 },
 "nbformat": 4,
 "nbformat_minor": 5
}
